{
 "cells": [
  {
   "cell_type": "markdown",
   "id": "7054cf77-2a0e-4395-89cb-8752a42e8ca4",
   "metadata": {},
   "source": [
    "# Kapitza pendulum"
   ]
  },
  {
   "cell_type": "markdown",
   "id": "ff954178-daa4-4eb2-9f41-ec2358765a7a",
   "metadata": {},
   "source": [
    "*Kapitza pendulum* (also spelled *Kapitsa pendulum*) is a rigid pendulum in which the pivot point vibrates in a vertical direction. It is named after Pyotr Kapitsa (1978 Nobel Prize for discoveries in low-temperature physics), who in 1951 developed a theory which successfully explained its unusual properties. The contrintuitive  feature of the Kapitsa pendulum is that the vibrating suspension can cause it to balance stably in an inverted position, with the bob above the suspension point. "
   ]
  },
  {
   "cell_type": "markdown",
   "id": "687b939e-77b4-4377-973a-37f42681538a",
   "metadata": {},
   "source": [
    "\n",
    "[Demo of the Kapitza pendulum](https://youtu.be/5oGYCxkgnHQ)"
   ]
  },
  {
   "attachments": {
    "9db0b8be-68a6-4e5f-8b8a-0536ed6c3ab9.png": {
     "image/png": "[encoded data removed]"
    }
   },
   "cell_type": "markdown",
   "id": "b2e624a2-2ef2-4610-976e-74490a46e6d5",
   "metadata": {},
   "source": [
    "![pendulum.png](attachment:9db0b8be-68a6-4e5f-8b8a-0536ed6c3ab9.png)"
   ]
  },
  {
   "cell_type": "markdown",
   "id": "6f9da6fc-983b-45b5-86e6-d450736d489e",
   "metadata": {},
   "source": [
    "The parameters of the pendulum are its mass $m$ and length $l$, acceleration of gravity $g$, and the amplitude and the frequency of the pivot's oscillations $a$ and $\\Omega$. The position of the pivot at time $t$ is  $a \\sin(\\Omega t)$.\n",
    "\n",
    "The frequency of the pendulum's small oscillations with the pivot at rest is\n",
    "$$\n",
    "\\omega = \\sqrt{\\frac{g}{l}} .\n",
    "$$"
   ]
  },
  {
   "cell_type": "markdown",
   "id": "6e51a16c-c54e-478a-8ed6-22eb2ff92dbb",
   "metadata": {},
   "source": [
    "The equation of motion of ot the pendulum is as follows:\n",
    "$$\n",
    "\\frac{\\mathrm{d}^2 \\phi}{\\mathrm{d}t^2} + \\left(\\omega^2 + (a/l) \\; \\Omega^2 \\sin(\\Omega t)\\right) \\sin(\\phi) = 0.\n",
    "$$"
   ]
  },
  {
   "cell_type": "markdown",
   "id": "4688f669-22f4-4e48-9b01-4c6ffbba322e",
   "metadata": {},
   "source": [
    "If we introduce the dimensionless time-like variable\n",
    "$$\\tau = \\omega t,$$\n",
    "the equation of motion ogf the Kapitza pendulim can be written in the following form\n",
    "$$\n",
    "\\frac{\\mathrm{d}^2 \\phi}{\\mathrm{d}\\tau^2} + \\left(1 + \\epsilon \\; \\lambda^2 \\sin(\\lambda \\tau)\\right) \\sin(\\phi) = 0\n",
    "$$\n",
    "that contains only two dimensionless parameters:\n",
    "$$\n",
    "\\epsilon \\equiv \\frac{a}{l},\n",
    "$$\n",
    "$$\n",
    "\\lambda = \\frac{\\Omega}{\\omega} .\n",
    "$$"
   ]
  },
  {
   "cell_type": "markdown",
   "id": "720ccb55-d397-4136-a4ce-5b2d4aac99e9",
   "metadata": {},
   "source": [
    "Finally, to make observations of stable directions of oscillation easier, we introduce weak friction $\\sim \\frac{\\mathrm{d} \\phi}{\\mathrm{d}\\tau}$ with a friction coefficient $\\gamma$:\n",
    "$$\n",
    "\\frac{\\mathrm{d}^2 \\phi}{\\mathrm{d}\\tau^2} \n",
    "+ \\gamma \\frac{\\mathrm{d} \\phi}{\\mathrm{d}\\tau}\n",
    "+ \\left(1 + \\epsilon \\; \\lambda^2 \\sin(\\lambda \\tau)\\right) \\sin(\\phi)  \n",
    "= 0 .\n",
    "$$"
   ]
  },
  {
   "cell_type": "markdown",
   "id": "45a859b3-76a0-4d25-b892-cce68beace0e",
   "metadata": {},
   "source": [
    "The goal of the assignment is to investigate numerically the solutions of the above equation. We are interested in the case whem $\\epsilon \\ll 1$, $\\gamma \\ll 1$, $\\lambda \\gg 1$. \n",
    "\n",
    "To be specific, we set $\\epsilon = 0.01$ and $\\gamma = 0.04$."
   ]
  },
  {
   "cell_type": "markdown",
   "id": "712a8ce3-0e25-4484-921d-c8211fd5d54a",
   "metadata": {},
   "source": [
    "Load the required julia packages"
   ]
  },
  {
   "cell_type": "code",
   "execution_count": null,
   "id": "9bda2a3e-f663-4c4e-9592-8e27d2b73af4",
   "metadata": {},
   "outputs": [],
   "source": [
    "\n",
    "using OrdinaryDiffEqTsit5\n",
    "using PyPlot"
   ]
  },
  {
   "cell_type": "markdown",
   "id": "e841297b-ecd8-45c3-80fe-c2dd073996e3",
   "metadata": {},
   "source": [
    "Right hand side of the ODE system of equations for Kapitza pendulum:"
   ]
  },
  {
   "cell_type": "code",
   "execution_count": null,
   "id": "2a0e4219-8357-4e5f-965f-5ba0bfe48e56",
   "metadata": {},
   "outputs": [],
   "source": [
    "\n",
    "\"\"\"\n",
    "    kapitza_pendulum!(dydt, y, p, tau)\n",
    "\n",
    "Right hand side of the ODE system of equations for Kapitsa pendulum.\n",
    "y = [phi, dphi/dtau], p = (epsilon, lambda, gamma) where epsilon = a/l, lambda = Omega/omega, \n",
    "gamma is a (small) friction coefficient.\n",
    "\"\"\"\n",
    "function kapitza_pendulum!(dydt, y, p, tau)\n",
    "    epsilon, lambda, gamma = p # unpack parameters\n",
    "    # Your code here\n",
    "    return nothing\n",
    "end"
   ]
  },
  {
   "cell_type": "markdown",
   "id": "0a22b89f-4f70-45b6-b6c6-53e892138b5c",
   "metadata": {},
   "source": [
    "Initial conditions and parameters:"
   ]
  },
  {
   "cell_type": "code",
   "execution_count": null,
   "id": "c068ba4e-77de-401a-8f88-257a6d6c2d7f",
   "metadata": {},
   "outputs": [],
   "source": [
    "tspan = (0.0, 100.0)\n",
    "u0 = [pi - pi/24, 0.0]  # initial position is close to the 'up' direction, the pendulum is initially at rest\n",
    "epsilon = 0.01\n",
    "gamma = 0.04;"
   ]
  },
  {
   "cell_type": "markdown",
   "id": "ee2c55e6-f956-49e4-ac6f-105fa2ebd038",
   "metadata": {},
   "source": [
    "Equidistant time grid for plotting: "
   ]
  },
  {
   "cell_type": "code",
   "execution_count": null,
   "id": "0ca5775f-fbe5-4ddc-89e9-bf2b859b5839",
   "metadata": {},
   "outputs": [],
   "source": [
    "\n",
    "np = 1000\n",
    "tau = range(tspan[1], tspan[2], length=np)"
   ]
  },
  {
   "cell_type": "markdown",
   "id": "fc491002-449b-440d-8739-443c2d460dcf",
   "metadata": {},
   "source": [
    "Plot the solutions for oscillations about up and down directions:"
   ]
  },
  {
   "cell_type": "code",
   "execution_count": null,
   "id": "343f275c-14e9-49eb-9cc6-ab7435978f8c",
   "metadata": {},
   "outputs": [],
   "source": [
    "\n",
    "lambdamin = 100.0\n",
    "lambdamax = 200.0\n",
    "for lambda = [lambdamin, lambdamax]\n",
    "    # Pack the parameters\n",
    "    p = (epsilon, lambda, gamma)\n",
    "\n",
    "    # Solve the ODE\n",
    "    prob = ODEProblem(# your code here) \n",
    "    sol = solve(prob, Tsit5(), reltol=1e-10, abstol=1e-10);\n",
    "\n",
    "    # Calculate the solution in equidistant points\n",
    "    sl = sol(tau);\n",
    "\n",
    "    # Extract the angle of deflection and plot it vs 'time'\n",
    "    phi = sl[1, :];\n",
    "    plot(tau, phi, label=L\"\\lambda = %$lambda\")\n",
    "end\n",
    "\n",
    "grid(true)\n",
    "xlabel(L\"\\tau\")\n",
    "ylabel(L\"$\\phi(\\tau)$\")\n",
    "legend()\n",
    "title(\"Kapitza pendulum: a/l = $epsilon, λ = Ω/ω\");"
   ]
  },
  {
   "cell_type": "markdown",
   "id": "3a89d926-738f-48f5-9995-17b4e652e239",
   "metadata": {},
   "source": [
    "Adjusting $\\lambda_{min}$ and $\\lambda_{max}$ try to bracket (with the relative error of better than 5%) the critical value of $\\lambda$ when the 'up' direction of oscillations becomes stable.\n",
    "\n",
    "Show your code below and clearly present your results and reasoning. "
   ]
  }
 ],
 "metadata": {
  "kernelspec": {
   "display_name": "Julia 1.10.5",
   "language": "julia",
   "name": "julia-1.10"
  },
  "language_info": {
   "file_extension": ".jl",
   "mimetype": "application/julia",
   "name": "julia",
   "version": "1.10.5"
  }
 },
 "nbformat": 4,
 "nbformat_minor": 5
}
