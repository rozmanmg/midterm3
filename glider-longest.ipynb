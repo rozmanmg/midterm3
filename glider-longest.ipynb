{
 "cells": [
  {
   "cell_type": "markdown",
   "id": "46e12cdf-4ad8-4db3-b839-f87a5d1c5b76",
   "metadata": {},
   "source": [
    "# The longest glider flight"
   ]
  },
  {
   "cell_type": "markdown",
   "id": "b5960e7a-2ea5-4916-b707-f21f6c2be637",
   "metadata": {},
   "source": [
    "**Problem**: Suppose you wanted to participate in a paper-airplane competition, and\n",
    "you want to use what you know about the glider flight model to improve your\n",
    "chances. For a given value of the aerodynamic efficiency, \n",
    "$R$, that you can obtain in your design, you\n",
    "want to know what is the best initial velocity and launch angle to fly\n",
    "the longest distance from a given height."
   ]
  },
  {
   "cell_type": "markdown",
   "id": "e1332ad2-d0d4-445a-a95f-ecdcd8d419c3",
   "metadata": {},
   "source": [
    "Recall that a glider motion is described by the following system of nonlinear ordinary differential equations.\n",
    "\\begin{align}\n",
    "  \\frac{\\mathrm{d}v}{\\mathrm{d}\\tau} & = -\\sin\\theta - \\frac{v^2}{R}, \\\\\n",
    "  \\frac{\\mathrm{d}\\theta}{\\mathrm{d}\\tau} & = - \\frac{\\cos\\theta}{v} + v, \\\\\n",
    "  \\frac{\\mathrm{d} x}{\\mathrm{d}\\tau} & = v \\cos\\theta, \\\\\n",
    "  \\frac{\\mathrm{d} y}{\\mathrm{d}\\tau} & = v \\sin\\theta .\n",
    "\\end{align}\n",
    "The equations contains a single parameter - the aerodynamic efficiency $R$ which is the ration of lift to drag forces acting on a glider. Here $\\theta$ is the angle between the instantaneous direction of the velocity of the glider and the horizontal direction. The other parameters are the dimensionless time $\\tau$, dimensionless speed of the glider $v$, and dimensionless cartesian coordinates of the glider in the vertical plane, $x$ and $y$. "
   ]
  },
  {
   "cell_type": "markdown",
   "id": "07e259d8-6e66-41c7-b0e3-a035974c3593",
   "metadata": {},
   "source": [
    "Load the required packages:"
   ]
  },
  {
   "cell_type": "code",
   "execution_count": null,
   "id": "bdf8ba3a-835a-4f33-9159-a53f5f5f234a",
   "metadata": {},
   "outputs": [],
   "source": [
    "\n",
    "using OrdinaryDiffEqTsit5\n",
    "using PyPlot\n",
    "using Optim"
   ]
  },
  {
   "cell_type": "markdown",
   "id": "87c3bcc2-4e69-4ce3-928c-18c6dc8bede1",
   "metadata": {},
   "source": [
    "Implement the function calculating the right hand side of the equation of motion:"
   ]
  },
  {
   "cell_type": "code",
   "execution_count": null,
   "id": "f03110e7-4d9c-4ad4-b7f7-4c57a5cae1f2",
   "metadata": {},
   "outputs": [],
   "source": [
    "\n",
    "\"\"\"\n",
    "    glider!(dudt, u, p, t)\n",
    "\n",
    "The system of differential equations for a glider fligt;\n",
    "u = [v, theta, x, y]\n",
    "\"\"\"\n",
    "function glider!(dudt, u, p, _)\n",
    "    # your code here\n",
    "end"
   ]
  },
  {
   "cell_type": "markdown",
   "id": "567d9c9f-3385-4bce-95b7-1c503b84375a",
   "metadata": {},
   "source": [
    "Implement a function that, given the initial conditions `u = [v0, theta0]`, solves the equation of motion from the launch until the landing. "
   ]
  },
  {
   "cell_type": "code",
   "execution_count": null,
   "id": "a624fbb7-7116-4655-a7e8-264baa0705f8",
   "metadata": {},
   "outputs": [],
   "source": [
    "\n",
    "\"\"\"\n",
    "    sol = solve_eqs_motion_landing(u)\n",
    "\n",
    "Solve the glider's equation of motion. Terminate the solver when\n",
    "the glider lands, i.e. when y(t) = 0.\n",
    "Here u[1] is the initial velocity and u[2] is the launch angle. \n",
    "\"\"\"\n",
    "function solve_eqs_motion_landing(u)\n",
    "\n",
    "    # Parameters\n",
    "    global xmin, ymax, R\n",
    "\n",
    "    # Initial conditions and ode parameters\n",
    "    v0 = u[1]\n",
    "    theta0 = u[2] \n",
    "    tspan = (0.0, 2000.0)              # huge upper limit, not going to be reached\n",
    "    uu0 = [v0, theta0, xmin, ymax]     # initial conditions for the ODE solver\n",
    "\n",
    "    # Solve ODE\n",
    "    probl = ODEProblem(glider!, uu0, tspan, R)\n",
    "    condition(u, _, _) =  # the condition for landing, your code here\n",
    "    affect!(integrator) = terminate!(integrator)\n",
    "    cb = ContinuousCallback(condition, affect!)\n",
    "    sol = solve(probl, Tsit5(), callback=cb, abstol=1e-10, reltol=1e-10)\n",
    "\n",
    "    return sol\n",
    "end"
   ]
  },
  {
   "cell_type": "markdown",
   "id": "4d25f0a4-dc7c-4c85-83b6-42f955072f71",
   "metadata": {},
   "source": [
    "Helper function:"
   ]
  },
  {
   "cell_type": "code",
   "execution_count": null,
   "id": "a2ed9880-efbd-4a7a-b9e6-49548cbff274",
   "metadata": {},
   "outputs": [],
   "source": [
    "\n",
    "\"\"\"\n",
    "    plot_trajectory(sol::ODESolution, label)\n",
    "\n",
    "Given a solution of a glider equation of motion, sol, plot\n",
    "the trajectory and print a graph label\n",
    "\"\"\"\n",
    "function plot_trajectory(sol::ODESolution, label)\n",
    "    # Extract glider coordinates\n",
    "    x = sol[3, :]\n",
    "    y = sol[4, :]\n",
    "\n",
    "    plot(x, y, label=label)\n",
    "    xlabel(\"x\")\n",
    "    ylabel(\"y\")\n",
    "    grid(true)\n",
    "    legend()\n",
    "    \n",
    "    return nothing\n",
    "end"
   ]
  },
  {
   "cell_type": "markdown",
   "id": "b9484b7c-bcc7-4891-9662-4227a5cebb05",
   "metadata": {},
   "source": [
    "Parameters for the calculations:"
   ]
  },
  {
   "cell_type": "code",
   "execution_count": null,
   "id": "10052f1c-fc81-46c2-ab93-61ae28632a3a",
   "metadata": {},
   "outputs": [],
   "source": [
    "\n",
    "# Global parameters\n",
    "const xmin = 0.0        # initial x\n",
    "const ymax = 2.0        # initial hight\n",
    "const R = 5.0;          # aerodynamic efficiency of the glider"
   ]
  },
  {
   "cell_type": "markdown",
   "id": "fea8a8d8-da2d-44a0-8bfa-23afa7993a79",
   "metadata": {},
   "source": [
    "Helper function:"
   ]
  },
  {
   "cell_type": "markdown",
   "id": "5b4fb9c7-c20b-4f7b-abb8-129181ff708d",
   "metadata": {},
   "source": [
    "Helper function:"
   ]
  },
  {
   "cell_type": "code",
   "execution_count": null,
   "id": "cb32fecc-dc24-428f-8325-37cd4c5991b4",
   "metadata": {},
   "outputs": [],
   "source": [
    "\"\"\"\n",
    "    l = flight_distance(sol)\n",
    "\n",
    "Given the solution of the equations of motion\n",
    "of a glider, return the distance of the flight.\n",
    "\"\"\"\n",
    "function flight_distance(sol::ODESolution)\n",
    "    return sol.u[end][3]\n",
    "end\n",
    "\n",
    "\"\"\"\n",
    "    l = flight_negative_distance(u)\n",
    "\n",
    "Given the initial velocity (u[1]) and the launch angle (u[2]),\n",
    "solve the equations of motion of a glider and return the\n",
    "*negative* distance of the flight.\n",
    "\"\"\"\n",
    "function flight_negative_distance(u)\n",
    "    sol = solve_eqs_motion_landing(u)\n",
    "    return -sol.u[end][3]\n",
    "end"
   ]
  },
  {
   "cell_type": "markdown",
   "id": "99108d84-2598-4151-8655-991620bd0e0a",
   "metadata": {},
   "source": [
    "We are finding a minimum of a function - the largest distance of flight is given by the **minimum** of the negative of the distance."
   ]
  },
  {
   "cell_type": "markdown",
   "id": "8c2a9abf-7083-4afc-abdb-ab66d8184f25",
   "metadata": {},
   "source": [
    "Initial approximation for the minimization:"
   ]
  },
  {
   "cell_type": "code",
   "execution_count": null,
   "id": "fe7974f5-0f46-49bf-8995-d9faac5d4977",
   "metadata": {},
   "outputs": [],
   "source": [
    "initial_approx = [3.0, 0.0] "
   ]
  },
  {
   "cell_type": "markdown",
   "id": "5b81b056-ae76-4abb-9376-4e561d9c0470",
   "metadata": {},
   "source": [
    "For minimization, we are using `L-BFGS` that is a minimization method that requires a gradient.\n",
    "We use automatic differentiation (instead of default finite differences) to calculate gradients,\n",
    "by setting the keyword `autodiff` to `:forward`"
   ]
  },
  {
   "cell_type": "code",
   "execution_count": null,
   "id": "ea2843f2-eb8f-47e9-8391-1cbc89ad8155",
   "metadata": {},
   "outputs": [],
   "source": [
    "@time res = optimize(flight_negative_distance, initial_approx, LBFGS(); autodiff=:forward)"
   ]
  },
  {
   "cell_type": "markdown",
   "id": "2ac8a99a-32d4-43de-bc3b-2d005be4737f",
   "metadata": {},
   "source": [
    "Define a helper function that wraps an angle to the range [-pi/2,pi/2)"
   ]
  },
  {
   "cell_type": "code",
   "execution_count": null,
   "id": "0fc91a90-227d-4184-ad9d-433931c29afe",
   "metadata": {},
   "outputs": [],
   "source": [
    "wrap_angle(phi) = mod(phi + pi/2, pi) - pi/2"
   ]
  },
  {
   "cell_type": "markdown",
   "id": "f97a4a18-5c7c-477c-854e-1cfdd2725032",
   "metadata": {},
   "source": [
    "Extract and print the optimal flight parameters:"
   ]
  },
  {
   "cell_type": "code",
   "execution_count": null,
   "id": "0276f26a-65e3-4fa1-99de-749895c51fc9",
   "metadata": {},
   "outputs": [],
   "source": [
    "s = Optim.minimizer(res) \n",
    "s[2] = wrap_angle(s[2])\n",
    "@info \"optimal launch velocity:\" round(s[1], digits=3)\n",
    "@info \"optimal launch angle (in radians):\" round(s[2], digits=3)\n",
    "@info \"optimal launch angle (in degrees):\" round(180 * s[2] / pi, digits=1)"
   ]
  },
  {
   "cell_type": "markdown",
   "id": "d7169912-0577-45aa-a4cb-13e5416fafe4",
   "metadata": {},
   "source": [
    "Recalculate the best solution:"
   ]
  },
  {
   "cell_type": "code",
   "execution_count": null,
   "id": "bfb52eb6-1e31-4d4a-9b6c-7ac3b5a44501",
   "metadata": {},
   "outputs": [],
   "source": [
    "sol = solve_eqs_motion_landing(s);"
   ]
  },
  {
   "cell_type": "markdown",
   "id": "46eef0c8-588e-4dc1-a027-af9504fab5e9",
   "metadata": {},
   "source": [
    "Flight distance:"
   ]
  },
  {
   "cell_type": "code",
   "execution_count": null,
   "id": "2d3b994d-2b2e-4985-96cc-fe70c3c0bbca",
   "metadata": {},
   "outputs": [],
   "source": [
    "lflight = flight_distance(sol);\n",
    "@info \"flight distance:\" round(lflight, digits=3)"
   ]
  },
  {
   "cell_type": "markdown",
   "id": "883bac91-0688-48fd-bb11-721b0bf32299",
   "metadata": {},
   "source": [
    "Plot the longest trajectory and, for a comparison, an arbitrary shorter one:"
   ]
  },
  {
   "cell_type": "code",
   "execution_count": null,
   "id": "eb1ca37f-e2c8-4ce7-8ab4-23acf6a4b3c4",
   "metadata": {},
   "outputs": [],
   "source": [
    "figure(figsize=(9,6))\n",
    "plot_trajectory(sol, \"The longest trajectory\")\n",
    "# For comparison, plot a shorter trajectory\n",
    "sol2 = solve_eqs_motion_landing(initial_approx);\n",
    "plot_trajectory(sol2, \"A shorter trajectory\")"
   ]
  },
  {
   "cell_type": "code",
   "execution_count": null,
   "id": "b8786774-b9f0-4533-a93c-b1729d0130ca",
   "metadata": {},
   "outputs": [],
   "source": []
  }
 ],
 "metadata": {
  "kernelspec": {
   "display_name": "Julia 1.10.7",
   "language": "julia",
   "name": "julia-1.10"
  },
  "language_info": {
   "file_extension": ".jl",
   "mimetype": "application/julia",
   "name": "julia",
   "version": "1.10.7"
  }
 },
 "nbformat": 4,
 "nbformat_minor": 5
}
