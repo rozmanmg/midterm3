{
 "cells": [
  {
   "cell_type": "markdown",
   "id": "04712bab-b76f-4234-a297-17491d2e2b69",
   "metadata": {},
   "source": [
    "# Moore's Law"
   ]
  },
  {
   "cell_type": "markdown",
   "id": "7a6df7ad-c9cd-4d7f-96da-77dbd38bf8e0",
   "metadata": {},
   "source": [
    "Moore's law is the observation that the number of transistors in an\n",
    "integrated circuit doubles about every two years. Moore's law is an\n",
    "observation and projection of a historical trend, rather than a law\n",
    "of physics.\n",
    "\n",
    "The observation is named after Gordon Moore, an American\n",
    "businessman, engineer, and the co-founder of Intel. In an article\n",
    "published in 1965, Moore observed that the number of components\n",
    "(transistors, resistors, diodes, or capacitors) in a dense\n",
    "integrated circuit had doubled approximately every year and\n",
    "speculated that it would continue to do so for at least the next\n",
    "ten years.  In 1975, looking forward to the next decade, he\n",
    "revised the forecast to a still exponential growth but with a\n",
    "lower growth rate. While Moore did not use empirical evidence in\n",
    "forecasting that the historical trend would continue, his\n",
    "prediction has held since 1975 and has since become known as a\n",
    "\"law\".\n",
    "\n",
    "Moore's prediction has been used in the semiconductor industry to\n",
    "guide long-term planning and to set targets for research and\n",
    "development, thus functioning to some extent as a self-fulfilling\n",
    "prophecy.\n",
    "\n",
    "At some point, Moore’s law will stop because we will no longer be\n",
    "able to shrink the spaces between components on a chip.  While\n",
    "we’re not certain where the limits are, chip pathways can’t be\n",
    "shorter than a single molecule, and the actual physical limit is\n",
    "likely larger than that.  Industry experts have not reached a\n",
    "consensus on exactly when Moore's law will cease to apply.\n",
    " "
   ]
  },
  {
   "cell_type": "markdown",
   "id": "be45d3e8-c3b9-4ef1-9200-1d199105743d",
   "metadata": {},
   "source": [
    " \n",
    "The goal of this assignment is to determine the doubling time in the\n",
    "Moore's law, $T_m$,\n",
    "  \\begin{equation}\n",
    "    N(t) \\sim 2^{t/T_m} ,\n",
    "  \\end{equation}\n",
    "from the observational data on the number of transistors in an\n",
    "integrated circuit vs time in years."
   ]
  },
  {
   "cell_type": "code",
   "execution_count": null,
   "id": "139085db-915b-4561-8b4b-e1a5741d3f88",
   "metadata": {},
   "outputs": [],
   "source": [
    "\n",
    "using CSV\n",
    "using DataFrames\n",
    "using PyPlot"
   ]
  },
  {
   "cell_type": "code",
   "execution_count": null,
   "id": "62251f54-f893-4641-b851-8ed3a9ab0cb6",
   "metadata": {},
   "outputs": [],
   "source": [
    "\n",
    "url = \"https://raw.githubusercontent.com/karlrupp/microprocessor-trend-data/master/50yrs/transistors.dat\""
   ]
  },
  {
   "cell_type": "markdown",
   "id": "5d9a0b1e-68f2-40fe-8356-e43047d98513",
   "metadata": {},
   "source": [
    "Download the data:"
   ]
  },
  {
   "cell_type": "code",
   "execution_count": null,
   "id": "a85060c8-2246-43b5-af72-12360979b5d5",
   "metadata": {},
   "outputs": [],
   "source": [
    "\n",
    "datafile = download(url)"
   ]
  },
  {
   "cell_type": "markdown",
   "id": "5cfb23f0-6455-4698-9900-a1f0f0ca6978",
   "metadata": {},
   "source": [
    "Import data to a DataFrame:"
   ]
  },
  {
   "cell_type": "code",
   "execution_count": null,
   "id": "839586e8-fc08-4ba7-a22b-eb60bb0d2b9d",
   "metadata": {},
   "outputs": [],
   "source": [
    "\n",
    "df = CSV.read(datafile, DataFrame, comment=\"#\", header=[\"Year\", \"Num\"], delim=' ', ignorerepeated=true, types=[Float64, Float64])"
   ]
  },
  {
   "cell_type": "markdown",
   "id": "b8d3345e-e757-4b59-87ff-9329627ca9e2",
   "metadata": {},
   "source": [
    "Plot the data as disconnected dots:"
   ]
  },
  {
   "cell_type": "code",
   "execution_count": null,
   "id": "172f9852-cf2e-4d14-a810-c9088d85138d",
   "metadata": {},
   "outputs": [],
   "source": [
    "\n",
    "semilogy(df.Year, df.Num, marker=\".\", linestyle=\"none\")\n",
    "# add, grid, axes labels, title\n"
   ]
  },
  {
   "cell_type": "markdown",
   "id": "1090444a-3798-4389-a7fd-80916b3b023e",
   "metadata": {},
   "source": [
    "Your code for linear regression:"
   ]
  },
  {
   "cell_type": "code",
   "execution_count": null,
   "id": "fa41dcf3-dcab-447c-8597-f06e95b619f7",
   "metadata": {},
   "outputs": [],
   "source": [
    "\n",
    "function linear_regression(x, y)\n",
    "    # your code here\n",
    "    return alpha, beta, sigma\n",
    "end"
   ]
  },
  {
   "cell_type": "markdown",
   "id": "78b07422-f214-45cf-82b0-c7943afd14e9",
   "metadata": {},
   "source": [
    "Find the best fit:"
   ]
  },
  {
   "cell_type": "code",
   "execution_count": null,
   "id": "28e911d7-ba13-446f-a807-4c2cd7fc20d9",
   "metadata": {},
   "outputs": [],
   "source": [
    "\n",
    "alpha, beta, sigma = linear_regression(df.Year, log.(df.Num))"
   ]
  },
  {
   "cell_type": "code",
   "execution_count": null,
   "id": "076f1d2e-514a-4150-b04a-5f650626c951",
   "metadata": {},
   "outputs": [],
   "source": [
    "\n",
    "semilogy(df.Year, df.Num, marker=\".\", linestyle=\"none\", label=\"Raw data\")\n",
    "semilogy(df.Year, exp.(alpha .+ beta .* df.Year), linestyle=\"dashed\", label=\"Best fit\")\n",
    "# add, grid, axes labels, title"
   ]
  },
  {
   "cell_type": "markdown",
   "id": "b74fc5d9-b593-44b5-b21e-43b1c7a5e0f6",
   "metadata": {},
   "source": [
    "Moore doubling constant, in years:"
   ]
  },
  {
   "cell_type": "code",
   "execution_count": null,
   "id": "cfd7e1cd-bf96-4498-865a-7ff66afe15cd",
   "metadata": {},
   "outputs": [],
   "source": [
    "\n",
    "Tₘ = # Your code here"
   ]
  },
  {
   "cell_type": "markdown",
   "id": "bc636611-4a89-44ec-a568-9698cfca5061",
   "metadata": {},
   "source": [
    "Standard deviation:"
   ]
  },
  {
   "cell_type": "code",
   "execution_count": null,
   "id": "73b9ed3b-8932-4f30-9575-452351cacdf6",
   "metadata": {},
   "outputs": [],
   "source": [
    "δTₘ = # Your code here "
   ]
  },
  {
   "cell_type": "code",
   "execution_count": null,
   "id": "74a20be5-ac87-4a79-a779-91be713772cd",
   "metadata": {},
   "outputs": [],
   "source": []
  }
 ],
 "metadata": {
  "kernelspec": {
   "display_name": "Julia 1.10.5",
   "language": "julia",
   "name": "julia-1.10"
  },
  "language_info": {
   "file_extension": ".jl",
   "mimetype": "application/julia",
   "name": "julia",
   "version": "1.10.5"
  }
 },
 "nbformat": 4,
 "nbformat_minor": 5
}
